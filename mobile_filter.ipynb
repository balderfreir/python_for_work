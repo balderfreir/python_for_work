{
 "cells": [
  {
   "cell_type": "code",
   "execution_count": null,
   "id": "ca244843-38ae-45a6-9211-2fec3b276849",
   "metadata": {},
   "outputs": [],
   "source": [
    "import numpy as np\n",
    "import pandas as pd"
   ]
  },
  {
   "cell_type": "code",
   "execution_count": 259,
   "id": "14caff63-ae49-4fbc-b085-e8079d324546",
   "metadata": {},
   "outputs": [],
   "source": [
    "path = 'путь к файлу в формате csv'\n",
    "# обратите внимание на sep=';', сепаратором может быть что-то другое\n",
    "df = pd.read_csv(path,sep=';')"
   ]
  },
  {
   "cell_type": "code",
   "execution_count": null,
   "id": "ecd974ac-1819-44bb-8234-4b66b69afb7b",
   "metadata": {},
   "outputs": [],
   "source": [
    "# проверяем успешноли загруился файл\n",
    "df.head()"
   ]
  },
  {
   "cell_type": "code",
   "execution_count": null,
   "id": "3c3057fe-24ce-4e0b-a615-b7addc8797de",
   "metadata": {},
   "outputs": [],
   "source": [
    "# общая информация по датафрейму\n",
    "df.info()"
   ]
  },
  {
   "cell_type": "markdown",
   "id": "53b96fb2-79a4-429b-a351-2c43ffc4474f",
   "metadata": {},
   "source": [
    "## Как работает"
   ]
  },
  {
   "cell_type": "markdown",
   "id": "c5b70d3c-622f-4daf-bd9d-430dd5ad33ee",
   "metadata": {},
   "source": [
    "- входящий фаил проверяет на наличие нужной информации(номера, у файла столбцы должны быть проименованы). \n",
    "- затем проверяет подходящие столбцы на унитарность информации. То есть, хранится ли в каждой строке однин номер/емаил или список. Если храниться список - разбиваем строку и добавляем \"лишнее\" в конец\n",
    "- далее проверяет, соответствует ли информация в столбце шаблону рекламного кабинета.Нет? Привести всю информацию к надлежащему виду\n",
    "- в результате работы появляются дубли (так же могут быть в исходном файле) - удОляем. после, удаляем пустые строки и сбрасываем индексацию\n",
    "- в конце сохраняем столбец с интересующей нас информацией в csv. Их может быть больше одного, сколько столбцов, столько и файлов"
   ]
  },
  {
   "cell_type": "code",
   "execution_count": 310,
   "id": "eeaeaa49-6f9b-4ae5-9ad1-ccd7718eb448",
   "metadata": {},
   "outputs": [],
   "source": [
    "def correct_phones_csv(path):\n",
    "    df = pd.read_csv(path,sep=';')  # TODO: Нужна проверка на разделитель и кодировку\n",
    "    list_of_columns = df.columns\n",
    "    keyword = 'phon'\n",
    "    need_columns = [col for col in list_of_columns if keyword in col]\n",
    "    for col in need_columns:\n",
    "        # разбиваем строку и добавляем \"лишнее\" в конец\n",
    "        df = df.assign(col=df[col].str.split(',')).explode(col)\n",
    "        # приводим информацию к нужному формату\n",
    "        df[col] = df[col].apply(phone_number_converter)\n",
    "        # удоляем дубликаты\n",
    "        df[col] = df[col].drop_duplicates()\n",
    "        # удоляем пустые строчки\n",
    "        df.dropna(subset=[col], inplace=True)\n",
    "        # сбрасываем индексацию\n",
    "        df = df.reset_index(drop=True)\n",
    "        # сохраняем в фаил с именем колонки и исходного фаила\n",
    "        df[col].to_csv(f'new_{col}_{path[:-4]}.csv', index=False, header=True)"
   ]
  },
  {
   "cell_type": "code",
   "execution_count": null,
   "id": "9d9ad314-29ad-4d8b-b768-ac887744de18",
   "metadata": {},
   "outputs": [],
   "source": [
    "correct_phones_csv(path)"
   ]
  },
  {
   "cell_type": "markdown",
   "id": "d121ee84-b396-4ff8-9271-5b533f697716",
   "metadata": {
    "tags": []
   },
   "source": [
    "Числовая строка, содержащая номер мобильного телефона с указанием кода страны. Нельзя использовать пробелы и дополнительные символы\n",
    "<br>$Хорошо: 79995551111$\n",
    "<br>$ПЛОХО: +7 (999) 555-11-11$\n",
    "\n",
    "В записи должно быть хотя бы одно из полей phone или email. Остальные поля — необязательные.\n",
    "<br>Расширение: CSV или TXT\n",
    "<br>Кодировка: UTF-8 или Windows-1251\n",
    "<br>Разделитель записей: запятая, перенос строки. табудяция\n",
    "<br>Минимальное количество записей: 100"
   ]
  },
  {
   "cell_type": "markdown",
   "id": "cd01b907-dd31-4a87-8804-a30ef3a65e55",
   "metadata": {},
   "source": [
    "### Обработка номера телефона (оставляем только цыфры)"
   ]
  },
  {
   "cell_type": "code",
   "execution_count": null,
   "id": "b2be3939-af3a-4e66-ab6b-0036feb91dba",
   "metadata": {
    "tags": []
   },
   "outputs": [],
   "source": [
    "def phone_number_converter(phone_number):\n",
    "    # удаляем все символы, кроме цифр\n",
    "    digits_only = ''.join(filter(str.isdigit, str(phone_number)))\n",
    "    \n",
    "    # проверяем, что строка содержит 11 цифр\n",
    "    if len(digits_only) == 11:\n",
    "        # проверяем, что первый символ - 7\n",
    "        if digits_only[0] == '7':\n",
    "            return digits_only\n",
    "        else:\n",
    "            # если первый символ не 7, заменяем его на 7\n",
    "            return '7' + digits_only[1:]\n",
    "    # else:\n",
    "    #     raise ValueError(\"Неверный формат номера телефона\", digits_only)"
   ]
  },
  {
   "cell_type": "markdown",
   "id": "4302a7c8-a3b7-47cd-b9f9-5bf14c969dc1",
   "metadata": {},
   "source": [
    "## Вспомогательные материалы"
   ]
  },
  {
   "cell_type": "markdown",
   "id": "efd0ac34-2e09-4f79-9b24-cd4c52338b14",
   "metadata": {},
   "source": [
    "### Наличие в них ключевых слов в заголовке"
   ]
  },
  {
   "cell_type": "code",
   "execution_count": 216,
   "id": "dce5501d-83db-4167-addf-eeefa33b30d6",
   "metadata": {},
   "outputs": [],
   "source": [
    "list_of_columns = df.columns"
   ]
  },
  {
   "cell_type": "code",
   "execution_count": 1,
   "id": "8dfb07b9-c3db-4739-a86b-62a881d3bd7e",
   "metadata": {},
   "outputs": [],
   "source": [
    "keyword = 'phon'"
   ]
  },
  {
   "cell_type": "code",
   "execution_count": 247,
   "id": "9e9241f6-45a0-43c4-ade2-27a8de91299f",
   "metadata": {},
   "outputs": [],
   "source": [
    "for col in list_of_columns:\n",
    "    if keyword in col:\n",
    "        True\n",
    "    else:\n",
    "        False    "
   ]
  },
  {
   "cell_type": "code",
   "execution_count": 248,
   "id": "ade1e594-6995-4a8d-95e5-28d1a6343fad",
   "metadata": {},
   "outputs": [
    {
     "data": {
      "text/plain": [
       "[False, True, False]"
      ]
     },
     "execution_count": 248,
     "metadata": {},
     "output_type": "execute_result"
    }
   ],
   "source": [
    "[True if keyword in col else False for col in list_of_columns]"
   ]
  },
  {
   "cell_type": "code",
   "execution_count": null,
   "id": "ea45e94a-4056-4edd-926e-2c31365112d9",
   "metadata": {},
   "outputs": [
    {
     "data": {
      "text/plain": [
       "['num2']"
      ]
     },
     "execution_count": 255,
     "metadata": {},
     "output_type": "execute_result"
    }
   ],
   "source": [
    "[col for col in list_of_columns if keyword in col]"
   ]
  },
  {
   "cell_type": "code",
   "execution_count": 226,
   "id": "450f24e6-7085-47a0-ade0-bfef2f241eb0",
   "metadata": {
    "tags": []
   },
   "outputs": [
    {
     "data": {
      "text/plain": [
       "False"
      ]
     },
     "execution_count": 226,
     "metadata": {},
     "output_type": "execute_result"
    }
   ],
   "source": [
    "True if keyword in list_of_columns else False"
   ]
  },
  {
   "cell_type": "markdown",
   "id": "beb09c87-a298-4a7b-949f-2f88f37beb85",
   "metadata": {},
   "source": [
    "### Как применять к столбцам датафрейма\n",
    "\n"
   ]
  },
  {
   "cell_type": "code",
   "execution_count": null,
   "id": "8399616a-7143-4187-8f4f-72cdcd5e6bad",
   "metadata": {},
   "outputs": [],
   "source": [
    "# df['col1'] = df['col1'].apply(phone_number_converter)\n",
    "# df = df.drop(columns=['col1'])"
   ]
  },
  {
   "cell_type": "markdown",
   "id": "5aa1c932-34f6-447d-8036-60c50ce9e067",
   "metadata": {},
   "source": [
    "### Разбиение строки датафрейма и добавление лишнего в конец столбца"
   ]
  },
  {
   "cell_type": "code",
   "execution_count": null,
   "id": "404d5cf1-b29f-4d7a-ab49-f1c9dd26dd11",
   "metadata": {},
   "outputs": [],
   "source": [
    "# df = df.assign(phone=df['phone'].str.split(',')).explode('phone')\n",
    "# если столбец другой, например col1 то выглядеть будет так\n",
    "# df.assign(col1=df['col1'].str.split(',')).explode('col1')"
   ]
  },
  {
   "cell_type": "markdown",
   "id": "8ebaed7c-9ba6-46a2-bd3d-05bbb670b6b7",
   "metadata": {},
   "source": [
    "### Удаляем дубликаты, затем пропуски, сброс индексации"
   ]
  },
  {
   "cell_type": "code",
   "execution_count": null,
   "id": "f3ea66e6-54f0-4d68-adb5-afa9924b728e",
   "metadata": {},
   "outputs": [],
   "source": [
    "# df['phone'] = df['phone'].drop_duplicates()\n",
    "# df.dropna(subset=['phone'], inplace=True)\n",
    "# df = df.reset_index(drop=True)"
   ]
  },
  {
   "cell_type": "markdown",
   "id": "f2c28aad-b540-4b69-b8e0-e0c16130e6b5",
   "metadata": {},
   "source": [
    "### Из двух столбцов в один новый и удоление не нужных"
   ]
  },
  {
   "cell_type": "code",
   "execution_count": 25,
   "id": "5f8640cb-e89f-4603-800a-15bd229912f2",
   "metadata": {},
   "outputs": [
    {
     "data": {
      "text/html": [
       "<div>\n",
       "<style scoped>\n",
       "    .dataframe tbody tr th:only-of-type {\n",
       "        vertical-align: middle;\n",
       "    }\n",
       "\n",
       "    .dataframe tbody tr th {\n",
       "        vertical-align: top;\n",
       "    }\n",
       "\n",
       "    .dataframe thead th {\n",
       "        text-align: right;\n",
       "    }\n",
       "</style>\n",
       "<table border=\"1\" class=\"dataframe\">\n",
       "  <thead>\n",
       "    <tr style=\"text-align: right;\">\n",
       "      <th></th>\n",
       "      <th>num</th>\n",
       "    </tr>\n",
       "  </thead>\n",
       "  <tbody>\n",
       "    <tr>\n",
       "      <th>0</th>\n",
       "      <td>1</td>\n",
       "    </tr>\n",
       "    <tr>\n",
       "      <th>1</th>\n",
       "      <td>2</td>\n",
       "    </tr>\n",
       "    <tr>\n",
       "      <th>2</th>\n",
       "      <td>3</td>\n",
       "    </tr>\n",
       "    <tr>\n",
       "      <th>3</th>\n",
       "      <td>4</td>\n",
       "    </tr>\n",
       "    <tr>\n",
       "      <th>4</th>\n",
       "      <td>5</td>\n",
       "    </tr>\n",
       "    <tr>\n",
       "      <th>5</th>\n",
       "      <td>6</td>\n",
       "    </tr>\n",
       "    <tr>\n",
       "      <th>6</th>\n",
       "      <td>7</td>\n",
       "    </tr>\n",
       "    <tr>\n",
       "      <th>7</th>\n",
       "      <td>8</td>\n",
       "    </tr>\n",
       "  </tbody>\n",
       "</table>\n",
       "</div>"
      ],
      "text/plain": [
       "   num\n",
       "0    1\n",
       "1    2\n",
       "2    3\n",
       "3    4\n",
       "4    5\n",
       "5    6\n",
       "6    7\n",
       "7    8"
      ]
     },
     "execution_count": 25,
     "metadata": {},
     "output_type": "execute_result"
    }
   ],
   "source": [
    "import pandas as pd\n",
    "\n",
    "# Создаем DataFrame с данными\n",
    "df = pd.DataFrame({'num1': [1, 2, 3, 4],\n",
    "                   'num2': [5, 6, 7, 8]})\n",
    "\n",
    "# DataFrame = ДФ\n",
    "# Объединяем значения столбцов num1 и num2 в один столбец num, но в НОВОМ ДФ\n",
    "_df = pd.concat([df['num1'], df['num2']], ignore_index=True)\n",
    "df = pd.DataFrame(_df,columns=['num'])\n",
    "\n",
    "# Если нужно, в исходном ДФ удаляем столбцы num1 и num2\n",
    "# df = df.drop(columns=['num1', 'num2'])\n",
    "\n",
    "# Выводим DataFrame\n",
    "df\n"
   ]
  },
  {
   "cell_type": "code",
   "execution_count": null,
   "id": "d8daff58-8b7b-40b3-8299-b8d76ea018d0",
   "metadata": {},
   "outputs": [],
   "source": [
    "# lst_1 = df['phone'].values.tolist()\n",
    "# lst_2 = df['phone2'].values.tolist()\n",
    "# phone_list = lst_1 + lst_2\n",
    "# phone_list2 = [el if el != 'nan' else phone_list.remove(el) for el in phone_list]"
   ]
  },
  {
   "cell_type": "markdown",
   "id": "edfe114e-94fd-41ba-8a57-09d515415d14",
   "metadata": {},
   "source": [
    "### Запись в файл"
   ]
  },
  {
   "cell_type": "code",
   "execution_count": null,
   "id": "85cf5065-c1a4-45a1-959b-48c847321283",
   "metadata": {},
   "outputs": [],
   "source": [
    "with open('list_g.txt', 'w') as f:\n",
    "    for item in phone_list:\n",
    "        f.write(\"%s\\n\" % item)"
   ]
  },
  {
   "cell_type": "code",
   "execution_count": null,
   "id": "294302d8-6695-4e86-ad91-cbf494ce72f6",
   "metadata": {},
   "outputs": [],
   "source": [
    "df_phone = pd.DataFrame(phone_list, columns=['phone'])\n",
    "df_phone.to_csv('list_g.csv', index=False)"
   ]
  },
  {
   "cell_type": "code",
   "execution_count": null,
   "id": "a5bcaeab-b095-4dff-9ebb-8fb3d0b9c8c6",
   "metadata": {},
   "outputs": [],
   "source": [
    "df['phone'].to_csv('list_a.csv', index=False, header=True)"
   ]
  },
  {
   "cell_type": "markdown",
   "id": "ff035f3c-8dc9-4699-a048-4f624f72d989",
   "metadata": {},
   "source": [
    "### Разбиение строки на подстроки с добавлением в конец"
   ]
  },
  {
   "cell_type": "code",
   "execution_count": 31,
   "id": "423d7b8d-c73f-489a-976b-d544a610651f",
   "metadata": {},
   "outputs": [
    {
     "name": "stdout",
     "output_type": "stream",
     "text": [
      "    col1\n",
      "0  a,b,c\n",
      "1    d,e\n",
      "2      f\n",
      "  col1\n",
      "0    a\n",
      "1    b\n",
      "2    c\n",
      "3    d\n",
      "4    e\n",
      "5    f\n"
     ]
    }
   ],
   "source": [
    "import pandas as pd\n",
    "# создаем DataFrame с данными\n",
    "df = pd.DataFrame({'col1': ['a,b,c', 'd,e', 'f']})\n",
    "print(df)\n",
    "# разбиваем строки в столбце 'col1' по запятой и создаем новые строки для каждого значения\n",
    "df = df.assign(col1=df['col1'].str.split(',')).explode('col1')\n",
    "df = df.reset_index(drop=True)\n",
    "# выводим результат\n",
    "print(df)\n"
   ]
  }
 ],
 "metadata": {
  "kernelspec": {
   "display_name": "Python 3 (ipykernel)",
   "language": "python",
   "name": "python3"
  },
  "language_info": {
   "codemirror_mode": {
    "name": "ipython",
    "version": 3
   },
   "file_extension": ".py",
   "mimetype": "text/x-python",
   "name": "python",
   "nbconvert_exporter": "python",
   "pygments_lexer": "ipython3",
   "version": "3.10.4"
  }
 },
 "nbformat": 4,
 "nbformat_minor": 5
}
